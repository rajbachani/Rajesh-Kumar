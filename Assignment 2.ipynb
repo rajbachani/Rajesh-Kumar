{
 "cells": [
  {
   "cell_type": "markdown",
   "id": "1817514a-6772-4986-9586-88e7135aacba",
   "metadata": {},
   "source": []
  },
  {
   "cell_type": "code",
   "execution_count": 2,
   "id": "ca07d0a1-7bb0-4db0-9c69-f656403e7847",
   "metadata": {},
   "outputs": [],
   "source": [
    "#Question 1:"
   ]
  },
  {
   "cell_type": "code",
   "execution_count": 3,
   "id": "b0d024ad-e234-4f80-9805-489798257079",
   "metadata": {},
   "outputs": [
    {
     "name": "stdin",
     "output_type": "stream",
     "text": [
      "Write Your Age:  1\n"
     ]
    },
    {
     "name": "stdout",
     "output_type": "stream",
     "text": [
      "You are Child\n"
     ]
    }
   ],
   "source": [
    "age = int(input('Write Your Age: '))\n",
    "if age >=0 and age <= 12:\n",
    "    print ('You are Child')\n",
    "elif age >= 13 and age <= 19:\n",
    "    print ('You are Teenager')\n",
    "elif age >= 20 and age <= 64:\n",
    "    print ('You are Adult')\n",
    "else:\n",
    "    print ('You are an old person and are not eligible')"
   ]
  },
  {
   "cell_type": "code",
   "execution_count": 4,
   "id": "b26975c7-634a-46eb-8d1f-623f544633d7",
   "metadata": {},
   "outputs": [],
   "source": [
    "#Question 2:"
   ]
  },
  {
   "cell_type": "code",
   "execution_count": 5,
   "id": "9edf6e42-cf3d-4667-9e9d-e41d493fbc94",
   "metadata": {},
   "outputs": [
    {
     "name": "stdin",
     "output_type": "stream",
     "text": [
      "What is your membership status, Please write \"P\" for Premium and \"R\"\" for Regular:  R\n",
      "What amount you would like to spend:  1500\n"
     ]
    },
    {
     "name": "stdout",
     "output_type": "stream",
     "text": [
      "You are not eligible for discounts\n"
     ]
    }
   ],
   "source": [
    "customer_status = input ('What is your membership status, Please write \"P\" for Premium and \"R\"\" for Regular: ')\n",
    "customer_purchase = int(input('What amount you would like to spend: '))\n",
    "if customer_status == 'P' and customer_purchase >= 1000:\n",
    "    print ('You are our Premium Customer and are eligible for discounts')\n",
    "elif customer_status == 'R' and customer_purchase >= 2000:\n",
    "    print ('You are our Regular Customer and are eligible for discounts')\n",
    "else:\n",
    "    print ('You are not eligible for discounts')"
   ]
  },
  {
   "cell_type": "code",
   "execution_count": null,
   "id": "f9e9ad46-17e7-4c03-b898-7eb5cc72c47c",
   "metadata": {},
   "outputs": [],
   "source": [
    "#Question 3:"
   ]
  },
  {
   "cell_type": "code",
   "execution_count": 6,
   "id": "c7f67ea2-92f2-4dee-9b4b-ade5a47f88d3",
   "metadata": {},
   "outputs": [
    {
     "name": "stdin",
     "output_type": "stream",
     "text": [
      "What is your age:  14\n",
      "What is your citizenship status, Please write \"C\" for Citizen and \"NC\" for Citizen:  C\n"
     ]
    },
    {
     "name": "stdout",
     "output_type": "stream",
     "text": [
      "You are not eligible for vote\n"
     ]
    }
   ],
   "source": [
    "citizen_age = int(input('What is your age: '))\n",
    "citizen_status = input ('What is your citizenship status, Please write \"C\" for Citizen and \"NC\" for Citizen: ')\n",
    "if citizen_age >= 18 and citizen_status == 'C':\n",
    "    print ('You are eligible to vote')\n",
    "elif citizen_age >= 16 and citizen_age <= 17 and citizen_status == 'C':\n",
    "    print ('You are eligible to vote under special region')\n",
    "else:\n",
    "    print ('You are not eligible for vote')"
   ]
  },
  {
   "cell_type": "code",
   "execution_count": 7,
   "id": "c4af5a65-db53-415d-88b1-bba9c94c10ae",
   "metadata": {},
   "outputs": [],
   "source": [
    "#Question 4:"
   ]
  },
  {
   "cell_type": "code",
   "execution_count": 20,
   "id": "5914bd86-db5f-40b4-8911-99e377b215da",
   "metadata": {},
   "outputs": [
    {
     "name": "stdin",
     "output_type": "stream",
     "text": [
      "Enter Employee Rating, Please enter (E for Excellent), (G for Good), (S for Satisfactory) S\n",
      "Enter Employee Service Years 5\n"
     ]
    },
    {
     "name": "stdout",
     "output_type": "stream",
     "text": [
      "You are not eligible for bonus\n"
     ]
    }
   ],
   "source": [
    "employee_rating = input('Enter Employee Rating, Please enter (E for Excellent), (G for Good), (S for Satisfactory)')\n",
    "employee_service = int(input('Enter Employee Service Years'))\n",
    "if employee_rating == 'E' and employee_service >=5:\n",
    "    print ('You are eligible for bonus')\n",
    "elif employee_rating == 'G' and employee_service >=10:\n",
    "    print ('You are eligible for bonus')\n",
    "elif employee_rating == 'S' and employee_service >=15:\n",
    "    print ('You are eligible for bonus')\n",
    "else:\n",
    "    print ('You are not eligible for bonus')"
   ]
  },
  {
   "cell_type": "code",
   "execution_count": null,
   "id": "5523fc12-1125-4873-85e9-09968938cc77",
   "metadata": {},
   "outputs": [],
   "source": [
    "#Question 5:"
   ]
  },
  {
   "cell_type": "code",
   "execution_count": 34,
   "id": "692ed9e3-a850-42ea-aa95-898de18cb676",
   "metadata": {},
   "outputs": [
    {
     "name": "stdout",
     "output_type": "stream",
     "text": [
      "Changed Text: I'm_learning_Python_Programming\n",
      "Number of underscores: 3\n",
      "Position of the First Underscore is : 4\n"
     ]
    }
   ],
   "source": [
    "text = \"I'm learning Python Programming\"\n",
    "changed_text = text.replace(\" \", \"_\")\n",
    "\n",
    "count_underscore = modified_text.count(\"_\")\n",
    "\n",
    "first_underscore_position = changed_text.find(\"_\")\n",
    "if first_underscore_position != -1:\n",
    "    first_underscore_position += 1\n",
    "\n",
    "print(\"Changed Text:\", changed_text)\n",
    "print(\"Number of underscores:\", count_underscore)\n",
    "if count_underscore > 0:\n",
    "    print(\"Position of the First Underscore is :\", first_underscore_position)\n",
    "else:\n",
    "    print(\"No Underscores Found\")"
   ]
  },
  {
   "cell_type": "code",
   "execution_count": null,
   "id": "fe3097d4-1d03-4796-8b4c-a0959ce67d41",
   "metadata": {},
   "outputs": [],
   "source": [
    "#Question 6:"
   ]
  },
  {
   "cell_type": "code",
   "execution_count": 36,
   "id": "88a281c8-1e4b-4bb0-a2be-8b1bbd9a9b0a",
   "metadata": {},
   "outputs": [
    {
     "name": "stdin",
     "output_type": "stream",
     "text": [
      "Enter a string:  I am Rajesh Kumar\n"
     ]
    },
    {
     "name": "stdout",
     "output_type": "stream",
     "text": [
      "All characters except the last 3: I am Rajesh Ku\n",
      "Every second character: Ia aehKmr\n",
      "String in reverse: ramuK hsejaR ma I\n"
     ]
    }
   ],
   "source": [
    "statement = input(\"Enter a string: \")\n",
    "\n",
    "print(\"All characters except the last 3:\", statement[:-3])\n",
    "print(\"Every second character:\", statement[::2])\n",
    "print(\"String in reverse:\", statement[::-1])"
   ]
  },
  {
   "cell_type": "code",
   "execution_count": null,
   "id": "8c1ef846-3d6f-42ac-a4ee-e57028ecac05",
   "metadata": {},
   "outputs": [],
   "source": [
    "#Question 7:"
   ]
  },
  {
   "cell_type": "code",
   "execution_count": 74,
   "id": "f8bce1b6-a6ad-41c0-b91e-246515f486e8",
   "metadata": {},
   "outputs": [
    {
     "name": "stdout",
     "output_type": "stream",
     "text": [
      "Original Statement: Hello World, We are learning Python\n",
      "Reversed Statement: nohtyP gninrael era eW ,dlroW olleH\n"
     ]
    }
   ],
   "source": [
    "original_statement = (\"Hello World, We are learning Python\")\n",
    "reversed_statement = original_statement[::-1]\n",
    "print ('Original Statement:', original_statement)\n",
    "print ('Reversed Statement:', reversed_statement)"
   ]
  },
  {
   "cell_type": "code",
   "execution_count": null,
   "id": "227c9f53-f20c-415d-bba5-c9ce65bc4855",
   "metadata": {},
   "outputs": [],
   "source": []
  },
  {
   "cell_type": "code",
   "execution_count": null,
   "id": "84ef5e35-44ec-4460-814d-74be41cb825b",
   "metadata": {},
   "outputs": [],
   "source": []
  },
  {
   "cell_type": "code",
   "execution_count": null,
   "id": "18142795-a6fa-42b2-8028-b0e69bc9aea7",
   "metadata": {},
   "outputs": [],
   "source": []
  },
  {
   "cell_type": "code",
   "execution_count": null,
   "id": "4b53efe9-9ece-4499-8018-eca999039088",
   "metadata": {},
   "outputs": [],
   "source": []
  },
  {
   "cell_type": "code",
   "execution_count": null,
   "id": "89914a94-a1e9-4e0a-9771-c2b72c662f1f",
   "metadata": {},
   "outputs": [],
   "source": []
  },
  {
   "cell_type": "code",
   "execution_count": null,
   "id": "f635f4e3-e381-4a20-9c6d-da26013754c7",
   "metadata": {},
   "outputs": [],
   "source": []
  },
  {
   "cell_type": "code",
   "execution_count": null,
   "id": "d0048807-e814-4780-9d88-4786fc6a0e60",
   "metadata": {},
   "outputs": [],
   "source": []
  },
  {
   "cell_type": "code",
   "execution_count": null,
   "id": "f58df5d2-5360-44f2-abeb-9eba10fdab4f",
   "metadata": {},
   "outputs": [],
   "source": []
  },
  {
   "cell_type": "code",
   "execution_count": null,
   "id": "cdc38965-8a40-458d-a7f4-22a855e42869",
   "metadata": {},
   "outputs": [],
   "source": []
  },
  {
   "cell_type": "code",
   "execution_count": null,
   "id": "be2745b1-7582-40d8-b091-1b8233ea9a48",
   "metadata": {},
   "outputs": [],
   "source": []
  },
  {
   "cell_type": "code",
   "execution_count": null,
   "id": "1bf72c16-f25d-48bf-9c8b-72c25cb941c1",
   "metadata": {},
   "outputs": [],
   "source": []
  },
  {
   "cell_type": "code",
   "execution_count": null,
   "id": "6b4617eb-5822-4389-87da-de3ab8e9808c",
   "metadata": {},
   "outputs": [],
   "source": []
  },
  {
   "cell_type": "code",
   "execution_count": null,
   "id": "1beb51c9-a10a-4eff-a710-72b114c30cbc",
   "metadata": {},
   "outputs": [],
   "source": []
  },
  {
   "cell_type": "code",
   "execution_count": null,
   "id": "1d836161-1760-4a43-9bdb-e1c099d2ca21",
   "metadata": {},
   "outputs": [],
   "source": []
  },
  {
   "cell_type": "code",
   "execution_count": null,
   "id": "c10bbac9-75ed-425c-afc3-112b7aac5ffa",
   "metadata": {},
   "outputs": [],
   "source": []
  },
  {
   "cell_type": "code",
   "execution_count": null,
   "id": "4ad211b6-0426-4866-908e-2efd0b10e6aa",
   "metadata": {},
   "outputs": [],
   "source": []
  },
  {
   "cell_type": "code",
   "execution_count": null,
   "id": "bf26cc04-6d96-4e1f-ae0b-96bf52fc1c96",
   "metadata": {},
   "outputs": [],
   "source": []
  },
  {
   "cell_type": "code",
   "execution_count": null,
   "id": "e852c365-f51b-4bc8-a4d6-a40099c862dc",
   "metadata": {},
   "outputs": [],
   "source": []
  },
  {
   "cell_type": "code",
   "execution_count": null,
   "id": "64c7ad9f-e7eb-4fea-85f6-3c998215ff5b",
   "metadata": {},
   "outputs": [],
   "source": []
  },
  {
   "cell_type": "code",
   "execution_count": null,
   "id": "84889d32-de93-4107-8f92-0c3ab266df4e",
   "metadata": {},
   "outputs": [],
   "source": []
  },
  {
   "cell_type": "code",
   "execution_count": null,
   "id": "4e8c77cd-a675-48da-8406-a2b2ec012cc7",
   "metadata": {},
   "outputs": [],
   "source": []
  },
  {
   "cell_type": "code",
   "execution_count": null,
   "id": "4970d1f5-db36-43d4-a46f-fbaf5bf5bc9f",
   "metadata": {},
   "outputs": [],
   "source": []
  },
  {
   "cell_type": "code",
   "execution_count": null,
   "id": "693d2207-f4e7-4c9f-91e3-c7b6a3f9614a",
   "metadata": {},
   "outputs": [],
   "source": []
  },
  {
   "cell_type": "code",
   "execution_count": null,
   "id": "dd8fe36b-6d48-4f1b-9bd0-089127c09c23",
   "metadata": {},
   "outputs": [],
   "source": []
  },
  {
   "cell_type": "code",
   "execution_count": null,
   "id": "f42942a0-7da5-4a00-9b02-9def886f5a86",
   "metadata": {},
   "outputs": [],
   "source": []
  },
  {
   "cell_type": "code",
   "execution_count": null,
   "id": "e1523223-9c70-4bae-a7e7-d420c244fa48",
   "metadata": {},
   "outputs": [],
   "source": []
  },
  {
   "cell_type": "code",
   "execution_count": null,
   "id": "d06369f3-8f12-45b8-b976-0fb7eedb9f5f",
   "metadata": {},
   "outputs": [],
   "source": []
  },
  {
   "cell_type": "code",
   "execution_count": null,
   "id": "22547b3f-e083-45c3-8fe1-b9f41835d1e0",
   "metadata": {},
   "outputs": [],
   "source": []
  },
  {
   "cell_type": "code",
   "execution_count": null,
   "id": "cb14b942-72a8-4c7a-bf10-41414b7d3a69",
   "metadata": {},
   "outputs": [],
   "source": []
  },
  {
   "cell_type": "code",
   "execution_count": null,
   "id": "901fd3ec-12bb-45a5-aa09-25c3dd7bda4e",
   "metadata": {},
   "outputs": [],
   "source": []
  },
  {
   "cell_type": "code",
   "execution_count": null,
   "id": "1ea4f892-dca5-43d0-a3f0-206784cff3cc",
   "metadata": {},
   "outputs": [],
   "source": []
  },
  {
   "cell_type": "code",
   "execution_count": null,
   "id": "385649e5-d7da-411a-bea7-4f2c03b4aa35",
   "metadata": {},
   "outputs": [],
   "source": []
  },
  {
   "cell_type": "code",
   "execution_count": null,
   "id": "d021b14b-6490-4d17-91f3-528faa57bf31",
   "metadata": {},
   "outputs": [],
   "source": []
  },
  {
   "cell_type": "code",
   "execution_count": null,
   "id": "62f94d22-7aff-4727-824f-4de1076f2627",
   "metadata": {},
   "outputs": [],
   "source": []
  },
  {
   "cell_type": "code",
   "execution_count": null,
   "id": "a84285a8-fed2-4d4f-a909-54e749b2a545",
   "metadata": {},
   "outputs": [],
   "source": []
  }
 ],
 "metadata": {
  "kernelspec": {
   "display_name": "Python 3 (ipykernel)",
   "language": "python",
   "name": "python3"
  },
  "language_info": {
   "codemirror_mode": {
    "name": "ipython",
    "version": 3
   },
   "file_extension": ".py",
   "mimetype": "text/x-python",
   "name": "python",
   "nbconvert_exporter": "python",
   "pygments_lexer": "ipython3",
   "version": "3.12.7"
  }
 },
 "nbformat": 4,
 "nbformat_minor": 5
}
