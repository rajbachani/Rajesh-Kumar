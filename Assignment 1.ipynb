{
 "cells": [
  {
   "cell_type": "code",
   "execution_count": null,
   "id": "7ac1ff42-7f84-4054-bd29-b445d4b0aa13",
   "metadata": {},
   "outputs": [],
   "source": [
    "Question 1 (What is the length of the salaries list)"
   ]
  },
  {
   "cell_type": "code",
   "execution_count": 1,
   "id": "1dde734f-b044-4a87-abf6-6065ff67f0db",
   "metadata": {},
   "outputs": [],
   "source": [
    "salaries = ['20k', '40k', '50k', '60k', '35k', '89k','40k']"
   ]
  },
  {
   "cell_type": "code",
   "execution_count": 5,
   "id": "fd50a84c-ab26-4b93-b032-dfa7734226be",
   "metadata": {},
   "outputs": [
    {
     "data": {
      "text/plain": [
       "7"
      ]
     },
     "execution_count": 5,
     "metadata": {},
     "output_type": "execute_result"
    }
   ],
   "source": [
    "len(salaries)"
   ]
  },
  {
   "cell_type": "code",
   "execution_count": null,
   "id": "a3f02044-2982-4edf-ba60-e30a9318b025",
   "metadata": {},
   "outputs": [],
   "source": [
    "Question 2 (Retrieve the third salary in the list by using index)"
   ]
  },
  {
   "cell_type": "code",
   "execution_count": 9,
   "id": "4ecbcd53-6390-4526-b5dc-413b805e1920",
   "metadata": {},
   "outputs": [
    {
     "data": {
      "text/plain": [
       "'60k'"
      ]
     },
     "execution_count": 9,
     "metadata": {},
     "output_type": "execute_result"
    }
   ],
   "source": [
    "salaries[3]"
   ]
  },
  {
   "cell_type": "code",
   "execution_count": null,
   "id": "a45e60f5-cb59-443b-94f6-67db9f9a48b1",
   "metadata": {},
   "outputs": [],
   "source": [
    "Question 3 (Extract the last salary from the list by using a negative index)"
   ]
  },
  {
   "cell_type": "code",
   "execution_count": 11,
   "id": "97b512c5-436f-4689-a6b1-3dba2b2627f8",
   "metadata": {},
   "outputs": [
    {
     "data": {
      "text/plain": [
       "'40k'"
      ]
     },
     "execution_count": 11,
     "metadata": {},
     "output_type": "execute_result"
    }
   ],
   "source": [
    "salaries[-1]"
   ]
  },
  {
   "cell_type": "code",
   "execution_count": null,
   "id": "0d0dedf9-6469-4a3d-92d9-33812f449b3c",
   "metadata": {},
   "outputs": [],
   "source": [
    "Question 4 (Slice the salaries list to get only the middle three salaries)"
   ]
  },
  {
   "cell_type": "code",
   "execution_count": 15,
   "id": "321aab12-a359-4def-9743-a52b5eb025b1",
   "metadata": {},
   "outputs": [
    {
     "data": {
      "text/plain": [
       "['50k', '60k', '35k']"
      ]
     },
     "execution_count": 15,
     "metadata": {},
     "output_type": "execute_result"
    }
   ],
   "source": [
    "salaries[2:5]"
   ]
  },
  {
   "cell_type": "code",
   "execution_count": null,
   "id": "3fa8592c-7448-4aef-9c0a-2d4db69ae37f",
   "metadata": {},
   "outputs": [],
   "source": [
    "Question 5 (Add a new salary to the list, ‘100k’ by using append() method)"
   ]
  },
  {
   "cell_type": "code",
   "execution_count": 17,
   "id": "d4cf29a9-7a07-4a63-a54e-9934fd37104a",
   "metadata": {},
   "outputs": [],
   "source": [
    "salaries.append('100K')"
   ]
  },
  {
   "cell_type": "code",
   "execution_count": 21,
   "id": "f3744999-f51a-4fed-b3b5-330db940cec6",
   "metadata": {},
   "outputs": [
    {
     "data": {
      "text/plain": [
       "['20k', '40k', '50k', '60k', '35k', '89k', '40k', '100K']"
      ]
     },
     "execution_count": 21,
     "metadata": {},
     "output_type": "execute_result"
    }
   ],
   "source": [
    "salaries"
   ]
  },
  {
   "cell_type": "code",
   "execution_count": null,
   "id": "fa7a4887-72d8-4db3-ae2c-afd27f2d2000",
   "metadata": {},
   "outputs": [],
   "source": [
    "Question 5A (Add a new salary to the list, ‘120k’ without method)"
   ]
  },
  {
   "cell_type": "code",
   "execution_count": 27,
   "id": "e57c4c0b-961b-4ef1-a168-bc76e02846ff",
   "metadata": {},
   "outputs": [],
   "source": [
    "salaries = salaries+['120K']"
   ]
  },
  {
   "cell_type": "code",
   "execution_count": 29,
   "id": "a1401f9e-4299-4112-9e2d-16ab2284d94e",
   "metadata": {},
   "outputs": [
    {
     "data": {
      "text/plain": [
       "['20k', '40k', '50k', '60k', '35k', '89k', '40k', '100K', '120K']"
      ]
     },
     "execution_count": 29,
     "metadata": {},
     "output_type": "execute_result"
    }
   ],
   "source": [
    "salaries"
   ]
  },
  {
   "cell_type": "code",
   "execution_count": null,
   "id": "5e22cd60-f04e-42c9-86c4-755e880efa21",
   "metadata": {},
   "outputs": [],
   "source": [
    "Question 6 (Replace the third salary in the list with '55k' and print the updated list)"
   ]
  },
  {
   "cell_type": "code",
   "execution_count": 43,
   "id": "caf45e3d-8b76-4514-8777-10045045f6f4",
   "metadata": {},
   "outputs": [],
   "source": [
    "salaries[2]='55k'"
   ]
  },
  {
   "cell_type": "code",
   "execution_count": 45,
   "id": "6b590bbb-52c6-491a-a686-eb792197b3bf",
   "metadata": {},
   "outputs": [
    {
     "data": {
      "text/plain": [
       "['20k', '40k', '55k', '60k', '35k', '89k', '40k', '100K', '120K']"
      ]
     },
     "execution_count": 45,
     "metadata": {},
     "output_type": "execute_result"
    }
   ],
   "source": [
    "salaries"
   ]
  },
  {
   "cell_type": "code",
   "execution_count": null,
   "id": "37af80ce-fe6b-4442-bd25-c40e97472c0e",
   "metadata": {},
   "outputs": [],
   "source": [
    "Question 7 (Count how many times '40k' appears in the list)"
   ]
  },
  {
   "cell_type": "code",
   "execution_count": 47,
   "id": "63e0b84b-dd40-4f93-9a95-2d1b8cc09e2b",
   "metadata": {},
   "outputs": [
    {
     "data": {
      "text/plain": [
       "2"
      ]
     },
     "execution_count": 47,
     "metadata": {},
     "output_type": "execute_result"
    }
   ],
   "source": [
    "salaries.count('40k')"
   ]
  },
  {
   "cell_type": "code",
   "execution_count": null,
   "id": "e3928814-8b92-4189-96bb-3fcbaa160a39",
   "metadata": {},
   "outputs": [],
   "source": [
    "Question 8 (Insert a new salary at the second position)"
   ]
  },
  {
   "cell_type": "code",
   "execution_count": 49,
   "id": "1504b08c-87d9-4e10-9784-9af3f48ce335",
   "metadata": {},
   "outputs": [],
   "source": [
    "salaries.insert(1,'10k')"
   ]
  },
  {
   "cell_type": "code",
   "execution_count": 51,
   "id": "81dd30b5-c811-4299-9bdb-151ea0f1029a",
   "metadata": {},
   "outputs": [
    {
     "data": {
      "text/plain": [
       "['20k', '10k', '40k', '55k', '60k', '35k', '89k', '40k', '100K', '120K']"
      ]
     },
     "execution_count": 51,
     "metadata": {},
     "output_type": "execute_result"
    }
   ],
   "source": [
    "salaries"
   ]
  },
  {
   "cell_type": "code",
   "execution_count": null,
   "id": "3370eccb-988a-4542-af97-e2e182458ff9",
   "metadata": {},
   "outputs": [],
   "source": [
    "Question 9 (Reverse the order of the salaries list with method)"
   ]
  },
  {
   "cell_type": "code",
   "execution_count": 53,
   "id": "243fd3fa-df74-4d99-93fc-ce69d7731233",
   "metadata": {},
   "outputs": [],
   "source": [
    "salaries.reverse()"
   ]
  },
  {
   "cell_type": "code",
   "execution_count": 55,
   "id": "1cde638b-67ad-403c-a543-32f0dfdbb688",
   "metadata": {},
   "outputs": [
    {
     "data": {
      "text/plain": [
       "['120K', '100K', '40k', '89k', '35k', '60k', '55k', '40k', '10k', '20k']"
      ]
     },
     "execution_count": 55,
     "metadata": {},
     "output_type": "execute_result"
    }
   ],
   "source": [
    "salaries"
   ]
  },
  {
   "cell_type": "code",
   "execution_count": null,
   "id": "274bcf0a-9ee7-4b4d-bf48-af379e12771d",
   "metadata": {},
   "outputs": [],
   "source": [
    "Question 10 (Reverse the order of the salaries list without method)"
   ]
  },
  {
   "cell_type": "code",
   "execution_count": 57,
   "id": "205fd263-8d28-4d90-a5fe-df3975714643",
   "metadata": {},
   "outputs": [],
   "source": [
    "salaries=salaries[::-1]"
   ]
  },
  {
   "cell_type": "code",
   "execution_count": 59,
   "id": "bb1af796-16f1-4372-a8d6-acb9dfbf9cd9",
   "metadata": {},
   "outputs": [
    {
     "data": {
      "text/plain": [
       "['20k', '10k', '40k', '55k', '60k', '35k', '89k', '40k', '100K', '120K']"
      ]
     },
     "execution_count": 59,
     "metadata": {},
     "output_type": "execute_result"
    }
   ],
   "source": [
    "salaries"
   ]
  },
  {
   "cell_type": "code",
   "execution_count": 61,
   "id": "508d8bb1-196c-4122-aa03-bbcf0167f8bf",
   "metadata": {},
   "outputs": [
    {
     "data": {
      "text/plain": [
       "['20k', '10k', '40k', '55k', '60k', '35k', '89k', '40k', '100K', '120K']"
      ]
     },
     "execution_count": 61,
     "metadata": {},
     "output_type": "execute_result"
    }
   ],
   "source": [
    "salaries[::]"
   ]
  },
  {
   "cell_type": "code",
   "execution_count": null,
   "id": "bdcfc0e9-df53-43f8-8bce-5ac55ba2d7db",
   "metadata": {},
   "outputs": [],
   "source": []
  }
 ],
 "metadata": {
  "kernelspec": {
   "display_name": "Python 3 (ipykernel)",
   "language": "python",
   "name": "python3"
  },
  "language_info": {
   "codemirror_mode": {
    "name": "ipython",
    "version": 3
   },
   "file_extension": ".py",
   "mimetype": "text/x-python",
   "name": "python",
   "nbconvert_exporter": "python",
   "pygments_lexer": "ipython3",
   "version": "3.12.7"
  }
 },
 "nbformat": 4,
 "nbformat_minor": 5
}
